{
 "cells": [
  {
   "cell_type": "markdown",
   "metadata": {},
   "source": [
    "<h3>Filtering data</h3>\n",
    "This file contains the last iteration of the current job. The received data is opened in the DataFrame objects, through the Pandas library. The filtering of articles is performed according to the specified condition (number of characters> 2000). Final count of articles is 100 044."
   ]
  },
  {
   "cell_type": "code",
   "execution_count": 1,
   "metadata": {},
   "outputs": [],
   "source": [
    "import numpy as np\n",
    "import pandas as pd"
   ]
  },
  {
   "cell_type": "code",
   "execution_count": 2,
   "metadata": {
    "scrolled": false
   },
   "outputs": [
    {
     "name": "stdout",
     "output_type": "stream",
     "text": [
      "        id                                              title  author_id  \\\n",
      "0  4442434                                 Китайская мудрость    1395543   \n",
      "1  4442433  Манифест читателя (Как читать классическую лит...    1413157   \n",
      "2  4442430  Призываются айтишники и сисадмины, а так же вс...     220928   \n",
      "3  4442429                                         Батя может     773825   \n",
      "4  4442428               О новой системе рейтинга в Overwatch     742541   \n",
      "\n",
      "     author_name  comments  rating rating_full                       date  \\\n",
      "0           MMaI         6       0       31:24  2016-09-01T07:20:41+03:00   \n",
      "1  Tolstoknijnik         8       0       17:28  2016-09-01T07:19:33+03:00   \n",
      "2        axellly        29       0        2:20  2016-09-01T07:15:17+03:00   \n",
      "3      Vincher89         9      41       58:17  2016-09-01T07:14:56+03:00   \n",
      "4        Nidere2        10     -83       14:97  2016-09-01T07:14:45+03:00   \n",
      "\n",
      "                                                tags  views  saves  \\\n",
      "0  ['[моё]', 'Семья', 'Брат', 'Младший брат', 'Му...      0      0   \n",
      "1  ['Не мое', 'Чтение', 'Книги', 'Литература', 'Д...      0      1   \n",
      "2  ['Компьютер', 'Компьютерщики', 'Компьютерное ж...      0      1   \n",
      "3    ['Тролль', 'Школьники', 'Обязанности', 'Текст']      0      1   \n",
      "4  ['[моё]', 'Overwatch', 'Рейтинг', 'Наркомания'...      0      0   \n",
      "\n",
      "                                                text  \n",
      "0    Мой младший брат, когда ему было 6-7 лет. Си...  \n",
      "1    \\nПисатель и критик соотносятся так же, как ...  \n",
      "2    Привет всем пикабушникам, этим холодным 1-се...  \n",
      "3    Чтобы я не забыла вынести мешок с мусором, м...  \n",
      "4    Решил я откаллиброваться на тестовом сервере...  \n"
     ]
    }
   ],
   "source": [
    "df = pd.read_csv('result.csv')\n",
    "print(df.iloc[0:5])"
   ]
  },
  {
   "cell_type": "code",
   "execution_count": 3,
   "metadata": {},
   "outputs": [],
   "source": [
    "df = df.dropna(subset=['text'])\n",
    "df['length'] = np.array(df['text'].apply(len))\n",
    "df = df.loc[df['length'] > 2000]"
   ]
  },
  {
   "cell_type": "code",
   "execution_count": 4,
   "metadata": {},
   "outputs": [
    {
     "name": "stdout",
     "output_type": "stream",
     "text": [
      "id             100044\n",
      "title          100044\n",
      "author_id      100044\n",
      "author_name    100044\n",
      "comments       100044\n",
      "rating         100044\n",
      "rating_full    100044\n",
      "date           100044\n",
      "tags           100044\n",
      "views          100044\n",
      "saves          100044\n",
      "text           100044\n",
      "length         100044\n",
      "dtype: int64          id                                              title  author_id  \\\n",
      "1   4442433  Манифест читателя (Как читать классическую лит...    1413157   \n",
      "2   4442430  Призываются айтишники и сисадмины, а так же вс...     220928   \n",
      "5   4442427  Советы 30-ти летнего 20-ти летним. Как заполуч...     557156   \n",
      "6   4442425                       Вышли сало, здравствуй мама!     756425   \n",
      "11  3140766  История не то про глупость не то про доброту.....     612458   \n",
      "\n",
      "      author_name  comments  rating rating_full                       date  \\\n",
      "1   Tolstoknijnik         8       0       17:28  2016-09-01T07:19:33+03:00   \n",
      "2         axellly        29       0        2:20  2016-09-01T07:15:17+03:00   \n",
      "5     pandakungfu       220     255      353:98  2016-09-01T07:12:35+03:00   \n",
      "6         saurbox         2       0        11:7  2016-09-01T07:08:24+03:00   \n",
      "11     greywolf88         4       0       12:39  2015-03-05T22:23:18+03:00   \n",
      "\n",
      "                                                 tags  views  saves  \\\n",
      "1   ['Не мое', 'Чтение', 'Книги', 'Литература', 'Д...      0      1   \n",
      "2   ['Компьютер', 'Компьютерщики', 'Компьютерное ж...      0      1   \n",
      "5   ['[моё]', 'Советы 30-летнего', 'Френдзона', 'О...      0    297   \n",
      "6   ['[моё]', 'Китай', 'Таможня', 'Деньги', 'Истор...      0      1   \n",
      "11  ['История', 'Деньги', 'Сложный выбор', 'Текст'...      0      0   \n",
      "\n",
      "                                                 text  length  \n",
      "1     \\nПисатель и критик соотносятся так же, как ...    7148  \n",
      "2     Привет всем пикабушникам, этим холодным 1-се...    2838  \n",
      "5     \\nА она идеальна! От щиколоток до кончиков р...    5744  \n",
      "6     \\nПродолжаю истории про моего друга.Естестве...    6360  \n",
      "11    История не то, чтобы юмористическая, но посм...    4795  \n"
     ]
    }
   ],
   "source": [
    "print(df.count(), df.iloc[0:5])"
   ]
  },
  {
   "cell_type": "code",
   "execution_count": 5,
   "metadata": {},
   "outputs": [],
   "source": [
    "df.to_csv('filtered.csv', encoding='utf-8', index=False)"
   ]
  }
 ],
 "metadata": {
  "kernelspec": {
   "display_name": "Python 3.8.6 64-bit ('python@3.8')",
   "name": "python3"
  },
  "language_info": {
   "codemirror_mode": {
    "name": "ipython",
    "version": 3
   },
   "file_extension": ".py",
   "mimetype": "text/x-python",
   "name": "python",
   "nbconvert_exporter": "python",
   "pygments_lexer": "ipython3",
   "version": "3.8.6"
  }
 },
 "nbformat": 4,
 "nbformat_minor": 2
}