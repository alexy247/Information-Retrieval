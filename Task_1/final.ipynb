{
 "cells": [
  {
   "cell_type": "markdown",
   "metadata": {},
   "source": [
    "<h3>Filtering data</h3>\n",
    "This file contains the last iteration of the current job. The received data is opened in the DataFrame objects, through the Pandas library. The filtering of articles is performed according to the specified condition (number of characters> 2000). Final count of articles is 103 176."
   ]
  },
  {
   "cell_type": "code",
   "execution_count": 1,
   "metadata": {},
   "outputs": [],
   "source": [
    "import numpy as np\n",
    "import pandas as pd"
   ]
  },
  {
   "cell_type": "code",
   "execution_count": 2,
   "metadata": {},
   "outputs": [
    {
     "name": "stdout",
     "output_type": "stream",
     "text": [
      "        id                                              title  author_id  \\\n",
      "0  4442434                                 Китайская мудрость    1395543   \n",
      "1  4442433  Манифест читателя (Как читать классическую лит...    1413157   \n",
      "2  4442430  Призываются айтишники и сисадмины, а так же вс...     220928   \n",
      "3  4442429                                         Батя может     773825   \n",
      "4  4442428               О новой системе рейтинга в Overwatch     742541   \n",
      "\n",
      "     author_name  comments  rating rating_full        data  \\\n",
      "0           MMaI         6       0       31:24  1619407744   \n",
      "1  Tolstoknijnik         8       0       17:28  1619407744   \n",
      "2        axellly        29       0        2:20  1619407744   \n",
      "3      Vincher89         9      41       58:17  1619407744   \n",
      "4        Nidere2        10     -83       14:97  1619407744   \n",
      "\n",
      "                                                tags  views  saves  \\\n",
      "0  ['[моё]', 'Семья', 'Брат', 'Младший брат', 'Му...      0      0   \n",
      "1  ['Не мое', 'Чтение', 'Книги', 'Литература', 'Д...      0      1   \n",
      "2  ['Компьютер', 'Компьютерщики', 'Компьютерное ж...      0      1   \n",
      "3    ['Тролль', 'Школьники', 'Обязанности', 'Текст']      0      1   \n",
      "4  ['[моё]', 'Overwatch', 'Рейтинг', 'Наркомания'...      0      0   \n",
      "\n",
      "                                                text  \n",
      "0    Мой младший брат, когда ему было 6-7 лет. Си...  \n",
      "1    \\nПисатель и критик соотносятся так же, как ...  \n",
      "2    Привет всем пикабушникам, этим холодным 1-се...  \n",
      "3    Чтобы я не забыла вынести мешок с мусором, м...  \n",
      "4    Решил я откаллиброваться на тестовом сервере...  \n"
     ]
    }
   ],
   "source": [
    "df = pd.read_csv('result.csv')\n",
    "print(df.iloc[0:5])"
   ]
  },
  {
   "cell_type": "code",
   "execution_count": 3,
   "metadata": {},
   "outputs": [],
   "source": [
    "df = df.dropna(subset=[\"text\"])\n",
    "df[\"length\"] = np.array(df[\"text\"].apply(len))\n",
    "df = df.loc[df[\"length\"] > 2000]"
   ]
  },
  {
   "cell_type": "code",
   "execution_count": 6,
   "metadata": {},
   "outputs": [
    {
     "name": "stdout",
     "output_type": "stream",
     "text": [
      "id             103176\n",
      "title          103176\n",
      "author_id      103176\n",
      "author_name    103176\n",
      "comments       103176\n",
      "rating         103176\n",
      "rating_full    103176\n",
      "data           103176\n",
      "tags           103176\n",
      "views          103176\n",
      "saves          103176\n",
      "text           103176\n",
      "length         103176\n",
      "dtype: int64          id                                              title  author_id  \\\n",
      "1   4442433  Манифест читателя (Как читать классическую лит...    1413157   \n",
      "2   4442430  Призываются айтишники и сисадмины, а так же вс...     220928   \n",
      "5   4442427  Советы 30-ти летнего 20-ти летним. Как заполуч...     557156   \n",
      "6   4442425                       Вышли сало, здравствуй мама!     756425   \n",
      "11  3140766  История не то про глупость не то про доброту.....     612458   \n",
      "\n",
      "      author_name  comments  rating rating_full        data  \\\n",
      "1   Tolstoknijnik         8       0       17:28  1619407744   \n",
      "2         axellly        29       0        2:20  1619407744   \n",
      "5     pandakungfu       220     255      353:98  1619407744   \n",
      "6         saurbox         2       0        11:7  1619407744   \n",
      "11     greywolf88         4       0       12:39  1619235357   \n",
      "\n",
      "                                                 tags  views  saves  \\\n",
      "1   ['Не мое', 'Чтение', 'Книги', 'Литература', 'Д...      0      1   \n",
      "2   ['Компьютер', 'Компьютерщики', 'Компьютерное ж...      0      1   \n",
      "5   ['[моё]', 'Советы 30-летнего', 'Френдзона', 'О...      0    297   \n",
      "6   ['[моё]', 'Китай', 'Таможня', 'Деньги', 'Истор...      0      1   \n",
      "11  ['История', 'Деньги', 'Сложный выбор', 'Текст'...      0      0   \n",
      "\n",
      "                                                 text  length  \n",
      "1     \\nПисатель и критик соотносятся так же, как ...    7148  \n",
      "2     Привет всем пикабушникам, этим холодным 1-се...    2838  \n",
      "5     \\nА она идеальна! От щиколоток до кончиков р...    5744  \n",
      "6     \\nПродолжаю истории про моего друга.Естестве...    6360  \n",
      "11    История не то, чтобы юмористическая, но посм...    4795  \n"
     ]
    }
   ],
   "source": [
    "print(df.count(), df.iloc[0:5])"
   ]
  },
  {
   "cell_type": "code",
   "execution_count": null,
   "metadata": {},
   "outputs": [],
   "source": [
    "df.to_csv('filtered.csv', encoding='utf-8', index=False)"
   ]
  }
 ],
 "metadata": {
  "kernelspec": {
   "display_name": "Python 3.8.6 64-bit ('python@3.8')",
   "name": "python3"
  },
  "language_info": {
   "codemirror_mode": {
    "name": "ipython",
    "version": 3
   },
   "file_extension": ".py",
   "mimetype": "text/x-python",
   "name": "python",
   "nbconvert_exporter": "python",
   "pygments_lexer": "ipython3",
   "version": "3.8.6"
  },
  "orig_nbformat": 2
 },
 "nbformat": 4,
 "nbformat_minor": 2
}